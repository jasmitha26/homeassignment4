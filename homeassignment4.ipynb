{
  "nbformat": 4,
  "nbformat_minor": 0,
  "metadata": {
    "colab": {
      "provenance": [],
      "authorship_tag": "ABX9TyNSS0iDjHygNtjBL/59Zh95",
      "include_colab_link": true
    },
    "kernelspec": {
      "name": "python3",
      "display_name": "Python 3"
    },
    "language_info": {
      "name": "python"
    }
  },
  "cells": [
    {
      "cell_type": "markdown",
      "metadata": {
        "id": "view-in-github",
        "colab_type": "text"
      },
      "source": [
        "<a href=\"https://colab.research.google.com/github/jasmitha26/homeassignment4/blob/main/homeassignment4.ipynb\" target=\"_parent\"><img src=\"https://colab.research.google.com/assets/colab-badge.svg\" alt=\"Open In Colab\"/></a>"
      ]
    },
    {
      "cell_type": "code",
      "execution_count": 1,
      "metadata": {
        "colab": {
          "base_uri": "https://localhost:8080/"
        },
        "id": "gWO_m6ClVL5o",
        "outputId": "5be2ff17-6402-4af8-dd41-e7b0dbcd5588"
      },
      "outputs": [
        {
          "output_type": "stream",
          "name": "stderr",
          "text": [
            "[nltk_data] Downloading package punkt to /root/nltk_data...\n",
            "[nltk_data]   Unzipping tokenizers/punkt.zip.\n",
            "[nltk_data] Downloading package stopwords to /root/nltk_data...\n",
            "[nltk_data]   Unzipping corpora/stopwords.zip.\n",
            "[nltk_data] Downloading package punkt_tab to /root/nltk_data...\n",
            "[nltk_data]   Unzipping tokenizers/punkt_tab.zip.\n"
          ]
        },
        {
          "output_type": "stream",
          "name": "stdout",
          "text": [
            "Original Tokens: ['NLP', 'techniques', 'are', 'used', 'in', 'virtual', 'assistants', 'like', 'Alexa', 'and', 'Siri', '.']\n",
            "Tokens Without Stopwords: ['NLP', 'techniques', 'used', 'virtual', 'assistants', 'like', 'Alexa', 'Siri', '.']\n",
            "Stemmed Words: ['nlp', 'techniqu', 'use', 'virtual', 'assist', 'like', 'alexa', 'siri', '.']\n"
          ]
        }
      ],
      "source": [
        "#Q1)\n",
        "import nltk\n",
        "from nltk.tokenize import word_tokenize\n",
        "from nltk.corpus import stopwords\n",
        "from nltk.stem import PorterStemmer\n",
        "\n",
        "# Download required NLTK data files (only needed once)\n",
        "nltk.download('punkt')\n",
        "nltk.download('stopwords')\n",
        "nltk.download('punkt_tab') # Download the missing punkt_tab data\n",
        "\n",
        "def nlp_preprocessing_pipeline(sentence):\n",
        "    # 1. Tokenize the sentence into individual words\n",
        "    tokens = word_tokenize(sentence)\n",
        "    print(\"Original Tokens:\", tokens)\n",
        "\n",
        "    # 2. Remove common English stopwords\n",
        "    stop_words = set(stopwords.words('english'))\n",
        "    tokens_no_stopwords = [word for word in tokens if word.lower() not in stop_words]\n",
        "    print(\"Tokens Without Stopwords:\", tokens_no_stopwords)\n",
        "\n",
        "    # 3. Apply stemming to reduce each word to its root form\n",
        "    stemmer = PorterStemmer()\n",
        "    stemmed_words = [stemmer.stem(word) for word in tokens_no_stopwords]\n",
        "    print(\"Stemmed Words:\", stemmed_words)\n",
        "\n",
        "# Example sentence\n",
        "sentence = \"NLP techniques are used in virtual assistants like Alexa and Siri.\"\n",
        "nlp_preprocessing_pipeline(sentence)"
      ]
    },
    {
      "cell_type": "code",
      "source": [
        "#Q2)\n",
        "import spacy\n",
        "\n",
        "# Load the English NLP model\n",
        "nlp = spacy.load('en_core_web_sm')\n",
        "\n",
        "sentence = \"Barack Obama served as the 44th President of the United States and won the Nobel Peace Prize in 2009.\"\n",
        "doc = nlp(sentence)\n",
        "\n",
        "for ent in doc.ents:\n",
        "    print(f\"Entity: {ent.text}, Label: {ent.label_}, Start: {ent.start_char}, End: {ent.end_char}\")"
      ],
      "metadata": {
        "colab": {
          "base_uri": "https://localhost:8080/"
        },
        "id": "5SSvSNDSW2FN",
        "outputId": "613240ad-b45c-4d71-c948-9bd87d448c07"
      },
      "execution_count": 5,
      "outputs": [
        {
          "output_type": "stream",
          "name": "stdout",
          "text": [
            "Entity: Barack Obama, Label: PERSON, Start: 0, End: 12\n",
            "Entity: 44th, Label: ORDINAL, Start: 27, End: 31\n",
            "Entity: the United States, Label: GPE, Start: 45, End: 62\n",
            "Entity: the Nobel Peace Prize, Label: WORK_OF_ART, Start: 71, End: 92\n",
            "Entity: 2009, Label: DATE, Start: 96, End: 100\n"
          ]
        }
      ]
    }
  ]
}